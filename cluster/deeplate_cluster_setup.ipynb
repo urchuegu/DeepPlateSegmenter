{
 "cells": [
  {
   "cell_type": "code",
   "execution_count": 3,
   "metadata": {},
   "outputs": [],
   "source": [
    "from deeplate.MMdata import MMData \n",
    "import os, stat\n",
    "import subprocess\n",
    "import numpy as np"
   ]
  },
  {
   "cell_type": "code",
   "execution_count": 4,
   "metadata": {},
   "outputs": [],
   "source": [
    "#Do not add the last slash\n",
    "\n",
    "#folder = '/Volumes/MusiqueHD/201710126_lowerbound'\n",
    "#folder = '/scicore/home/nimwegen/urchuegu/projects/prj_noise_across_conditions_main/cell_size/data/20170126/201710126_lowerbound'\n",
    "folder = '/scicore/home/nimwegen/urchuegu/projects/prj_noise_across_conditions_main/cell_size/data/20180315/20180315_m9gluc_M02_1'\n",
    "#folder_analyzed = '/Users/guillaume/Desktop/PostdocBasel/PlateData/Analysis_'+os.path.basename(folder)+'/'\n",
    "folder_save = '/scicore/home/nimwegen/urchuegu/projects/prj_noise_across_conditions_main/cell_size/results/cell_info/20180315/m9gluc/deeplate'\n",
    "#weights_folder  = '/Users/guillaume/Desktop/PostdocBasel/DeepLearningData/Learn20170126/'\n",
    "#weights_folder  = '/scicore/home/nimwegen/witzg/DeepLearningData/Learn20170126_subset_stack2'\n",
    "weights_folder  = '/scicore/home/nimwegen/GROUP/MM_Data/DeepLearning/96Plates/'"
   ]
  },
  {
   "cell_type": "code",
   "execution_count": 14,
   "metadata": {},
   "outputs": [
    {
     "ename": "IndexError",
     "evalue": "arrays used as indices must be of integer (or boolean) type",
     "output_type": "error",
     "traceback": [
      "\u001b[0;31m---------------------------------------------------------------------------\u001b[0m",
      "\u001b[0;31mIndexError\u001b[0m                                Traceback (most recent call last)",
      "\u001b[0;32m<ipython-input-14-f23c33a0e708>\u001b[0m in \u001b[0;36m<module>\u001b[0;34m()\u001b[0m\n\u001b[1;32m      3\u001b[0m \u001b[0mpositions\u001b[0m\u001b[0;34m\u001b[0m\u001b[0m\n\u001b[1;32m      4\u001b[0m \u001b[0mwell_index\u001b[0m \u001b[0;34m=\u001b[0m \u001b[0mnp\u001b[0m\u001b[0;34m.\u001b[0m\u001b[0mravel\u001b[0m\u001b[0;34m(\u001b[0m\u001b[0;34m[\u001b[0m\u001b[0;34m[\u001b[0m\u001b[0mx\u001b[0m \u001b[0;32mfor\u001b[0m \u001b[0mx\u001b[0m \u001b[0;32min\u001b[0m \u001b[0mrange\u001b[0m\u001b[0;34m(\u001b[0m\u001b[0mwell\u001b[0m\u001b[0;34m.\u001b[0m\u001b[0mshape\u001b[0m\u001b[0;34m[\u001b[0m\u001b[0;36m0\u001b[0m\u001b[0;34m]\u001b[0m\u001b[0;34m)\u001b[0m \u001b[0;32mif\u001b[0m \u001b[0mwell\u001b[0m\u001b[0;34m[\u001b[0m\u001b[0mx\u001b[0m\u001b[0;34m]\u001b[0m \u001b[0;32min\u001b[0m \u001b[0my\u001b[0m\u001b[0;34m]\u001b[0m \u001b[0;32mfor\u001b[0m \u001b[0my\u001b[0m \u001b[0;32min\u001b[0m \u001b[0mpositions\u001b[0m\u001b[0;34m]\u001b[0m\u001b[0;34m)\u001b[0m\u001b[0;34m\u001b[0m\u001b[0m\n\u001b[0;32m----> 5\u001b[0;31m \u001b[0mwell_str\u001b[0m \u001b[0;34m=\u001b[0m \u001b[0mwell\u001b[0m\u001b[0;34m[\u001b[0m\u001b[0mwell_index\u001b[0m\u001b[0;34m]\u001b[0m\u001b[0;34m\u001b[0m\u001b[0m\n\u001b[0m",
      "\u001b[0;31mIndexError\u001b[0m: arrays used as indices must be of integer (or boolean) type"
     ]
    }
   ],
   "source": [
    "MMobj = MMData(folder = folder)\n",
    "positions, well = MMobj.get_position_names()\n",
    "positions\n",
    "well_index = np.ravel([[x for x in range(well.shape[0]) if well[x] in y] for y in positions])\n",
    "well_str = well[well_index]"
   ]
  },
  {
   "cell_type": "code",
   "execution_count": 41,
   "metadata": {},
   "outputs": [],
   "source": [
    "#positions = positions[0:10]"
   ]
  },
  {
   "cell_type": "code",
   "execution_count": 4,
   "metadata": {},
   "outputs": [
    {
     "data": {
      "text/plain": [
       "36.0"
      ]
     },
     "execution_count": 4,
     "metadata": {},
     "output_type": "execute_result"
    }
   ],
   "source": [
    "len(positions)/4"
   ]
  },
  {
   "cell_type": "code",
   "execution_count": 6,
   "metadata": {},
   "outputs": [
    {
     "name": "stdout",
     "output_type": "stream",
     "text": [
      "['DIA (Dual)', 'GFP (Dual noPh3)']\n"
     ]
    }
   ],
   "source": [
    "MMobj = MMData(folder = folder)\n",
    "print(MMobj.channels)"
   ]
  },
  {
   "cell_type": "code",
   "execution_count": 7,
   "metadata": {},
   "outputs": [],
   "source": [
    "#based on the above outpout set fluo and bright field channels\n",
    "fluo_ch = 1\n",
    "bf_ch = 0"
   ]
  },
  {
   "cell_type": "code",
   "execution_count": 8,
   "metadata": {},
   "outputs": [],
   "source": [
    "folder_analyzed = folder_save+'/Analysis_'+os.path.basename(folder)+'/'\n",
    "folder_logs = folder_save+'/Analysis_'+os.path.basename(folder)+'/logs/'\n",
    "if not os.path.exists(folder_analyzed):\n",
    "    os.makedirs(folder_logs)\n",
    "if not os.path.exists(folder_logs):\n",
    "    os.makedirs(folder_logs)"
   ]
  },
  {
   "cell_type": "code",
   "execution_count": 9,
   "metadata": {},
   "outputs": [],
   "source": [
    "basename = os.path.basename(folder)\n",
    "num_in_group = 5\n",
    "pos_seq = np.arange(len(positions))\n",
    "partitioned = [pos_seq[i:i+num_in_group] for i  in range(0, len(pos_seq), num_in_group)]\n",
    "for p in partitioned:\n",
    "    filename = folder_analyzed+basename+'_'+str(p[0])+'_'+str(p[-1])+'.sh'\n",
    "\n",
    "    f = open(filename, \"w\")\n",
    "    \n",
    "    #regular CPU\n",
    "    '''f.write('#!/bin/bash\\n')\n",
    "    f.write('#SBATCH --job-name=test_JOB2 \\n')\n",
    "    f.write('#SBATCH --time=01:00:00 \\n')\n",
    "    f.write('#SBATCH --mem=8G \\n')\n",
    "    f.write('#SBATCH --qos=6hours \\n')\n",
    "    f.write('#SBATCH -e '+folder_logs+'error_'+basename+'_'+str(p[0])+'_'+str(p[-1])+'.log \\n')\n",
    "    f.write('#SBATCH -o '+folder_logs+'output_'+basename+'_'+str(p[0])+'_'+str(p[-1])+'.log \\n')\n",
    "    f.write('module load Python/3.5.2-goolf-1.7.20 \\n')\n",
    "    f.write('source /scicore/home/nimwegen/witzg/DeepPlateSegmenter/venv-deeplate/bin/activate \\n')\n",
    "    f.write('python deep_plate_analysis.py \"'+\n",
    "            folder+'\" \"'+weights_folder+'\" \"'+folder_analyzed+'\" '+str(p[0])+' '+str(num_in_group)+' '+str(bf_ch)+' '+str(fluo_ch)+' \\n')\n",
    "    f.close()'''\n",
    "    \n",
    "    #GPU\n",
    "    f.write('#!/bin/bash\\n')\n",
    "    f.write('#SBATCH --job-name=test_JOB-gpu \\n')\n",
    "    f.write('#SBATCH --time=01:00:00 \\n')\n",
    "    f.write('#SBATCH --mem-per-cpu=8G \\n')\n",
    "    f.write('#SBATCH --ntasks=1 \\n')\n",
    "    f.write('#SBATCH --cpus-per-task=1 \\n')\n",
    "    f.write('#SBATCH --qos=6hours \\n')\n",
    "    f.write('#SBATCH --partition=k80 \\n')\n",
    "    f.write('#SBATCH --gres=gpu:1 \\n')\n",
    "    f.write('#SBATCH -e '+folder_logs+'error_'+basename+'_'+str(p[0])+'_'+str(p[-1])+'.log \\n')\n",
    "    f.write('#SBATCH -o '+folder_logs+'output_'+basename+'_'+str(p[0])+'_'+str(p[-1])+'.log \\n')\n",
    "    f.write('module load Python/3.5.2-goolf-1.7.20 \\n')\n",
    "    f.write('module load cuDNN \\n')\n",
    "    f.write('source /scicore/home/nimwegen/witzg/DeepPlateSegmenter/venv-deeplate-gpu/bin/activate \\n')\n",
    "    f.write('python deep_plate_analysis_multiD.py \"'+\n",
    "            folder+'\" \"'+weights_folder+'\" \"'+folder_analyzed+'\" '+str(p[0])+' '+str(num_in_group)+' '+str(bf_ch)+' '+str(fluo_ch)+' \\n')\n",
    "    f.close()\n",
    "    \n",
    "    \n",
    "    os.chmod(filename, stat.S_IRWXU)\n",
    "    \n",
    "    subprocess.call(['sbatch',filename])"
   ]
  },
  {
   "cell_type": "code",
   "execution_count": null,
   "metadata": {},
   "outputs": [],
   "source": []
  }
 ],
 "metadata": {
  "kernelspec": {
   "display_name": "Python 3",
   "language": "python",
   "name": "python3"
  },
  "language_info": {
   "codemirror_mode": {
    "name": "ipython",
    "version": 3
   },
   "file_extension": ".py",
   "mimetype": "text/x-python",
   "name": "python",
   "nbconvert_exporter": "python",
   "pygments_lexer": "ipython3",
   "version": "3.5.2"
  }
 },
 "nbformat": 4,
 "nbformat_minor": 2
}
